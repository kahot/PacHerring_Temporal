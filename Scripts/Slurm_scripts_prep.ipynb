{
 "cells": [
  {
   "cell_type": "code",
   "execution_count": 3,
   "id": "cefbb302",
   "metadata": {},
   "outputs": [],
   "source": [
    "import io\n",
    "import pandas as pd\n",
    "import numpy as np"
   ]
  },
  {
   "cell_type": "code",
   "execution_count": 4,
   "id": "182e537e",
   "metadata": {},
   "outputs": [],
   "source": [
    "def sbatch_header(job,mem,tasks,hours):\n",
    "    #sbatch submission script header\n",
    "    script = 'script_' + job + '.sh'\n",
    "    outfile = io.open(script,'w', newline='\\n')    \n",
    "    outfile.write('#!/bin/bash\\n\\n#SBATCH --job-name='+job+'\\n')\n",
    "    outfile.write('#SBATCH --mem='+mem+'G \\n')\n",
    "    outfile.write('#SBATCH --ntasks='+tasks+' \\n')\n",
    "    outfile.write('#SBATCH -e '+job+'_%A_%a.err \\n')\n",
    "    outfile.write('#SBATCH --time='+hours+':00:00  \\n')\n",
    "    outfile.write('#SBATCH --mail-user=ktist@ucdavis.edu ##email you when job starts,ends,etc\\n#SBATCH --mail-type=ALL\\n')\n",
    "    outfile.write('#SBATCH -p high \\n\\n')\n",
    "    outfile.close()"
   ]
  },
  {
   "cell_type": "code",
   "execution_count": 12,
   "id": "911b64a2",
   "metadata": {},
   "outputs": [],
   "source": [
    "#create slurm scripts\n",
    "job_name = 'heterozygosity'\n",
    "infiles = [\"BC17\",\"CA17\",\"PWS07\",\"PWS17\",\"PWS91\",\"PWS96\",\"SS06\",\"SS17\",\"SS96\",\"TB06\",\"TB17\",\"TB91\",\"TB96\",\"WA17\"]"
   ]
  },
  {
   "cell_type": "code",
   "execution_count": 17,
   "id": "176e0e6d",
   "metadata": {},
   "outputs": [],
   "source": [
    "script = 'script_' + job_name + '.sh'\n",
    "sbatch_header(job_name,'12','1','24') "
   ]
  },
  {
   "cell_type": "code",
   "execution_count": 18,
   "id": "024c643c",
   "metadata": {},
   "outputs": [],
   "source": [
    "o = io.open(script,'a+', newline='\\n')\n",
    "o.write('module load angsd \\n')\n",
    "\n",
    "for infile in infiles:    \n",
    "    o.write('realSFS /home/jamcgirr/ph/data/angsd/SFS/vcf/maf05/'+infile+'.saf.idx >/home/ktist/ph/data/angsd/'+infile+'_maf05_est.ml \\n\\n')\n",
    "    # make saf from bams\n",
    "    \n",
    "o.write('\\n\\n#run: sbatch '+script)\n",
    "o.close()"
   ]
  },
  {
   "cell_type": "code",
   "execution_count": null,
   "id": "aa9827ef",
   "metadata": {},
   "outputs": [],
   "source": []
  }
 ],
 "metadata": {
  "kernelspec": {
   "display_name": "Python 3 (ipykernel)",
   "language": "python",
   "name": "python3"
  },
  "language_info": {
   "codemirror_mode": {
    "name": "ipython",
    "version": 3
   },
   "file_extension": ".py",
   "mimetype": "text/x-python",
   "name": "python",
   "nbconvert_exporter": "python",
   "pygments_lexer": "ipython3",
   "version": "3.9.5"
  }
 },
 "nbformat": 4,
 "nbformat_minor": 5
}
